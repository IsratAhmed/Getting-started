{
  "nbformat": 4,
  "nbformat_minor": 0,
  "metadata": {
    "colab": {
      "provenance": [],
      "authorship_tag": "ABX9TyPwJ1zTU4mq0n9xdQIqILku",
      "include_colab_link": true
    },
    "kernelspec": {
      "name": "python3",
      "display_name": "Python 3"
    },
    "language_info": {
      "name": "python"
    }
  },
  "cells": [
    {
      "cell_type": "markdown",
      "metadata": {
        "id": "view-in-github",
        "colab_type": "text"
      },
      "source": [
        "<a href=\"https://colab.research.google.com/github/IsratAhmed/Getting-started/blob/main/Getting_started_sat.ipynb\" target=\"_parent\"><img src=\"https://colab.research.google.com/assets/colab-badge.svg\" alt=\"Open In Colab\"/></a>"
      ]
    },
    {
      "cell_type": "code",
      "execution_count": null,
      "metadata": {
        "colab": {
          "base_uri": "https://localhost:8080/"
        },
        "id": "BIv2dpiJzxVf",
        "outputId": "1a1776ae-2eab-4af0-df2a-8b954c2c287c"
      },
      "outputs": [
        {
          "output_type": "stream",
          "name": "stdout",
          "text": [
            "This number is even!\n"
          ]
        }
      ],
      "source": [
        "x=10\n",
        "if x%2==0:\n",
        "  print(\"This number is even!\")"
      ]
    },
    {
      "cell_type": "code",
      "source": [
        "x=1000\n",
        "if x%2==0:\n",
        "  print(\"This number is even!\")\n",
        "else:\n",
        "  print(\"This is an odd number!\")"
      ],
      "metadata": {
        "colab": {
          "base_uri": "https://localhost:8080/"
        },
        "id": "iHAS1VV30euP",
        "outputId": "3647ac30-d329-4e03-9ebc-b5579115a5fe"
      },
      "execution_count": null,
      "outputs": [
        {
          "output_type": "stream",
          "name": "stdout",
          "text": [
            "This number is even!\n"
          ]
        }
      ]
    },
    {
      "cell_type": "code",
      "source": [
        "a,b=10,12\n",
        "if a==b:\n",
        "  print(\"The two numbers are equal\")\n",
        "elif a<b:\n",
        "  print(\"The first number is smaller than the second\")\n",
        "else:\n",
        "  print(\"The first number is greater than the second\")"
      ],
      "metadata": {
        "colab": {
          "base_uri": "https://localhost:8080/"
        },
        "id": "s-uS7qhy1fRL",
        "outputId": "d9632433-f5b4-4bc4-db34-7a40a6bd02b4"
      },
      "execution_count": null,
      "outputs": [
        {
          "output_type": "stream",
          "name": "stdout",
          "text": [
            "The first number is smaller than the second\n"
          ]
        }
      ]
    },
    {
      "cell_type": "code",
      "source": [
        "a=15\n",
        "b=12\n",
        "if a==b:\n",
        "  print(\"The two numbers are equal\")\n",
        "elif a<b:\n",
        "  print(\"The first number is smaller than the second\")\n",
        "else:\n",
        "  print(\"The first number is greater than the second\")"
      ],
      "metadata": {
        "colab": {
          "base_uri": "https://localhost:8080/"
        },
        "id": "aICF9w4E0xmn",
        "outputId": "269b75ea-37df-4ff6-a884-118feaf12995"
      },
      "execution_count": null,
      "outputs": [
        {
          "output_type": "stream",
          "name": "stdout",
          "text": [
            "The first number is greater than the second\n"
          ]
        }
      ]
    },
    {
      "cell_type": "code",
      "source": [
        "a = -1\n",
        "if a>0:\n",
        "  print(\"The number is positive\")\n",
        "elif a<0:\n",
        "  print(\"The number is negative\")\n",
        "else:\n",
        "  print(\"The number is 0\")"
      ],
      "metadata": {
        "colab": {
          "base_uri": "https://localhost:8080/"
        },
        "id": "nN_rVNvs1wAb",
        "outputId": "27b8a155-6a35-4283-ac46-70022613d9f3"
      },
      "execution_count": null,
      "outputs": [
        {
          "output_type": "stream",
          "name": "stdout",
          "text": [
            "The number is negative\n"
          ]
        }
      ]
    },
    {
      "cell_type": "code",
      "source": [
        "for i in range(0,6):\n",
        "  print(i)"
      ],
      "metadata": {
        "colab": {
          "base_uri": "https://localhost:8080/"
        },
        "id": "Ra-N5mmn22yC",
        "outputId": "69428666-c155-488a-efca-041680a12d45"
      },
      "execution_count": null,
      "outputs": [
        {
          "output_type": "stream",
          "name": "stdout",
          "text": [
            "0\n",
            "1\n",
            "2\n",
            "3\n",
            "4\n",
            "5\n"
          ]
        }
      ]
    },
    {
      "cell_type": "code",
      "source": [
        "for i in range(0,6):\n",
        "  print(\"The iteration number is {}\".format(i))"
      ],
      "metadata": {
        "colab": {
          "base_uri": "https://localhost:8080/"
        },
        "id": "ft6wgKzA3BRL",
        "outputId": "c53c2fba-f527-46e8-a21e-25870423f9ef"
      },
      "execution_count": null,
      "outputs": [
        {
          "output_type": "stream",
          "name": "stdout",
          "text": [
            "The iteration number is 0\n",
            "The iteration number is 1\n",
            "The iteration number is 2\n",
            "The iteration number is 3\n",
            "The iteration number is 4\n",
            "The iteration number is 5\n"
          ]
        }
      ]
    },
    {
      "cell_type": "code",
      "source": [
        "i=0\n",
        "while i<5:\n",
        "  print(i)\n",
        "  i=i+1\n",
        "print(\"THE END!\")"
      ],
      "metadata": {
        "colab": {
          "base_uri": "https://localhost:8080/"
        },
        "id": "QnLf1nFo3XwC",
        "outputId": "af214f39-ba2c-4b6b-cc80-0d246fc571e0"
      },
      "execution_count": null,
      "outputs": [
        {
          "output_type": "stream",
          "name": "stdout",
          "text": [
            "0\n",
            "1\n",
            "2\n",
            "3\n",
            "4\n",
            "THE END!\n"
          ]
        }
      ]
    },
    {
      "cell_type": "code",
      "source": [
        "targetvalue =6\n",
        "iterate =0\n",
        "while iterate<targetvalue:\n",
        "  print(\"iteration number is {}, which is less than the target value {}\".format(iterate,targetvalue))\n",
        "  iterate =iterate+1"
      ],
      "metadata": {
        "colab": {
          "base_uri": "https://localhost:8080/"
        },
        "id": "P82wbIZ_30oa",
        "outputId": "7ac1ab7c-1aed-4688-b37d-7eb8bb87b2b2"
      },
      "execution_count": null,
      "outputs": [
        {
          "output_type": "stream",
          "name": "stdout",
          "text": [
            "iteration number is 0, which is less than the target value 6\n",
            "iteration number is 1, which is less than the target value 6\n",
            "iteration number is 2, which is less than the target value 6\n",
            "iteration number is 3, which is less than the target value 6\n",
            "iteration number is 4, which is less than the target value 6\n",
            "iteration number is 5, which is less than the target value 6\n"
          ]
        }
      ]
    },
    {
      "cell_type": "code",
      "source": [
        "colours =[\"blue\", \"red\", \"black\"]\n",
        "cars=[\"Audi\", \"Tesla\", \"BMW\"]\n",
        "for colour in colours:#outer loop\n",
        "  for car in cars:#inner loop\n",
        "    print(colour, car)"
      ],
      "metadata": {
        "colab": {
          "base_uri": "https://localhost:8080/"
        },
        "id": "PWBnTLUp4ruN",
        "outputId": "dcb39492-ede4-4daf-b6fb-a54784a3f333"
      },
      "execution_count": null,
      "outputs": [
        {
          "output_type": "stream",
          "name": "stdout",
          "text": [
            "blue Audi\n",
            "blue Tesla\n",
            "blue BMW\n",
            "red Audi\n",
            "red Tesla\n",
            "red BMW\n",
            "black Audi\n",
            "black Tesla\n",
            "black BMW\n"
          ]
        }
      ]
    },
    {
      "cell_type": "code",
      "source": [
        "for i in range(1,6):\n",
        "  for j in range(1,11):\n",
        "    print(i*j, end=' ')\n",
        "  print()"
      ],
      "metadata": {
        "colab": {
          "base_uri": "https://localhost:8080/"
        },
        "id": "30n9nHcU5OKs",
        "outputId": "77418ce0-63fe-439d-dc19-ee0aa4179462"
      },
      "execution_count": null,
      "outputs": [
        {
          "output_type": "stream",
          "name": "stdout",
          "text": [
            "1 2 3 4 5 6 7 8 9 10 \n",
            "2 4 6 8 10 12 14 16 18 20 \n",
            "3 6 9 12 15 18 21 24 27 30 \n",
            "4 8 12 16 20 24 28 32 36 40 \n",
            "5 10 15 20 25 30 35 40 45 50 \n"
          ]
        }
      ]
    },
    {
      "cell_type": "code",
      "source": [
        "targetvalue =6\n",
        "iterate =0\n",
        "while iterate<targetvalue:\n",
        "  iterate=iterate+1\n",
        "  if iterate==3:\n",
        "    continue\n",
        "  print(\"The iteration value is {}, which is less than the target value\".format(iterate,targetvalue))"
      ],
      "metadata": {
        "colab": {
          "base_uri": "https://localhost:8080/"
        },
        "id": "b1vfin6P6K1W",
        "outputId": "864802da-7cbe-4751-c34c-f3af257060d4"
      },
      "execution_count": null,
      "outputs": [
        {
          "output_type": "stream",
          "name": "stdout",
          "text": [
            "The iteration value is 1, which is less than the target value\n",
            "The iteration value is 2, which is less than the target value\n",
            "The iteration value is 4, which is less than the target value\n",
            "The iteration value is 5, which is less than the target value\n",
            "The iteration value is 6, which is less than the target value\n"
          ]
        }
      ]
    },
    {
      "cell_type": "code",
      "source": [
        "a = 1\n",
        "while a < 100:\n",
        "  print(a)\n",
        "  a = a+1\n",
        "  if a==11:\n",
        "    break"
      ],
      "metadata": {
        "colab": {
          "base_uri": "https://localhost:8080/"
        },
        "id": "9a3tYivjD_xO",
        "outputId": "9d02c22c-6e1a-44c6-8a2e-293e18a600ad"
      },
      "execution_count": null,
      "outputs": [
        {
          "output_type": "stream",
          "name": "stdout",
          "text": [
            "1\n",
            "2\n",
            "3\n",
            "4\n",
            "5\n",
            "6\n",
            "7\n",
            "8\n",
            "9\n",
            "10\n"
          ]
        }
      ]
    },
    {
      "cell_type": "code",
      "source": [
        "targetvalue =6\n",
        "iterate =0\n",
        "while iterate<targetvalue:\n",
        "  iterate=iterate+1\n",
        "  if iterate>=3 and iterate<=5:\n",
        "    continue\n",
        "  print(\"The iteration value is {}, which is less than the target value\".format(iterate,targetvalue))"
      ],
      "metadata": {
        "colab": {
          "base_uri": "https://localhost:8080/"
        },
        "id": "kgKA1zpREMeP",
        "outputId": "10b7abbb-53a2-41f9-c771-bf352f0f732b"
      },
      "execution_count": null,
      "outputs": [
        {
          "output_type": "stream",
          "name": "stdout",
          "text": [
            "The iteration value is 1, which is less than the target value\n",
            "The iteration value is 2, which is less than the target value\n",
            "The iteration value is 6, which is less than the target value\n"
          ]
        }
      ]
    },
    {
      "cell_type": "code",
      "source": [
        "targetvalue =6\n",
        "iterate =0\n",
        "while iterate<targetvalue:\n",
        "  iterate=iterate+1\n",
        "  if iterate in range(3,6):\n",
        "    continue\n",
        "  print(\"The iteration value is {}, which is less than the target value\".format(iterate,targetvalue))"
      ],
      "metadata": {
        "colab": {
          "base_uri": "https://localhost:8080/"
        },
        "id": "frW0kpHVEpxX",
        "outputId": "7f74183e-8aae-45f4-8a93-7058cae2e8ff"
      },
      "execution_count": null,
      "outputs": [
        {
          "output_type": "stream",
          "name": "stdout",
          "text": [
            "The iteration value is 1, which is less than the target value\n",
            "The iteration value is 2, which is less than the target value\n",
            "The iteration value is 6, which is less than the target value\n"
          ]
        }
      ]
    },
    {
      "cell_type": "code",
      "source": [
        "mylist=[\"Micheal\",\"Sean\",\"Adam\"]\n",
        "print(mylist)"
      ],
      "metadata": {
        "colab": {
          "base_uri": "https://localhost:8080/"
        },
        "id": "2ehEgJ1zFTwr",
        "outputId": "ad9f9dc2-a82d-4543-c424-0790a408cc00"
      },
      "execution_count": null,
      "outputs": [
        {
          "output_type": "stream",
          "name": "stdout",
          "text": [
            "['Micheal', 'Sean', 'Adam']\n"
          ]
        }
      ]
    },
    {
      "cell_type": "code",
      "source": [
        "mylist=[\"Micheal\",\"Sean\",\"Adam\"]\n",
        "mylist[0]"
      ],
      "metadata": {
        "colab": {
          "base_uri": "https://localhost:8080/",
          "height": 35
        },
        "id": "MKC1ZUnbFdwL",
        "outputId": "6cc6d792-0820-4c70-d915-ce5544280885"
      },
      "execution_count": null,
      "outputs": [
        {
          "output_type": "execute_result",
          "data": {
            "text/plain": [
              "'Micheal'"
            ],
            "application/vnd.google.colaboratory.intrinsic+json": {
              "type": "string"
            }
          },
          "metadata": {},
          "execution_count": 30
        }
      ]
    },
    {
      "cell_type": "code",
      "source": [
        "mylist=[\"Micheal\",\"Sean\",\"Adam\",5000,True]\n",
        "type(mylist)"
      ],
      "metadata": {
        "colab": {
          "base_uri": "https://localhost:8080/"
        },
        "id": "m8KQKsThFjiz",
        "outputId": "9f64cc2c-7535-4f38-f50e-956ea16d66ac"
      },
      "execution_count": null,
      "outputs": [
        {
          "output_type": "execute_result",
          "data": {
            "text/plain": [
              "list"
            ]
          },
          "metadata": {},
          "execution_count": 31
        }
      ]
    },
    {
      "cell_type": "code",
      "source": [
        "mylist=[\"Micheal\",\"Sean\",\"Adam\",5000,True]\n",
        "mylist[0]=\"John\"\n",
        "print(mylist)"
      ],
      "metadata": {
        "colab": {
          "base_uri": "https://localhost:8080/"
        },
        "id": "LfzW4Z_6Fs3G",
        "outputId": "a6f6fe29-0e81-4e52-9c99-bd9e9535c55d"
      },
      "execution_count": null,
      "outputs": [
        {
          "output_type": "stream",
          "name": "stdout",
          "text": [
            "['John', 'Sean', 'Adam', 5000, True]\n"
          ]
        }
      ]
    },
    {
      "cell_type": "code",
      "source": [
        "mylist=[\"Micheal\",\"Sean\",\"Adam\",5000,True]\n",
        "mylist[1:3]"
      ],
      "metadata": {
        "colab": {
          "base_uri": "https://localhost:8080/"
        },
        "id": "r7a_-JhSF-ht",
        "outputId": "6b362965-55e3-4113-812f-cd29c8e98359"
      },
      "execution_count": null,
      "outputs": [
        {
          "output_type": "execute_result",
          "data": {
            "text/plain": [
              "['Sean', 'Adam']"
            ]
          },
          "metadata": {},
          "execution_count": 33
        }
      ]
    },
    {
      "cell_type": "code",
      "source": [
        "mylist=[\"Micheal\",\"Sean\",\"Adam\",5000,True]\n",
        "print(len(mylist))"
      ],
      "metadata": {
        "colab": {
          "base_uri": "https://localhost:8080/"
        },
        "id": "_cr10P1dGKOx",
        "outputId": "e7ca811b-c7d7-4edd-d43c-b91c45981dba"
      },
      "execution_count": null,
      "outputs": [
        {
          "output_type": "stream",
          "name": "stdout",
          "text": [
            "5\n"
          ]
        }
      ]
    },
    {
      "cell_type": "code",
      "source": [
        "mylist=[\"Micheal\",\"Sean\",\"Adam\",5000,True]\n",
        "if \"Sean\" in mylist:\n",
        "  print(\"Yes the element exists\")"
      ],
      "metadata": {
        "colab": {
          "base_uri": "https://localhost:8080/"
        },
        "id": "_-L3QObWGQnk",
        "outputId": "945a11eb-3598-4644-c127-06b712d5fe44"
      },
      "execution_count": null,
      "outputs": [
        {
          "output_type": "stream",
          "name": "stdout",
          "text": [
            "Yes the element exists\n"
          ]
        }
      ]
    },
    {
      "cell_type": "code",
      "source": [
        "mylist=[\"Micheal\",\"Sean\",\"Adam\",5000,True]\n",
        "mylist.insert(1, \"John\")\n",
        "print(mylist)"
      ],
      "metadata": {
        "colab": {
          "base_uri": "https://localhost:8080/"
        },
        "id": "QVfsmgH1GiCK",
        "outputId": "1fe335d0-abe1-4af1-ab91-9c42654a43f4"
      },
      "execution_count": null,
      "outputs": [
        {
          "output_type": "stream",
          "name": "stdout",
          "text": [
            "['Micheal', 'John', 'Sean', 'Adam', 5000, True]\n"
          ]
        }
      ]
    },
    {
      "cell_type": "code",
      "source": [
        "mylist=[\"Micheal\",\"Sean\",\"Adam\",5000,True]\n",
        "mylist.append(\"Zara\")\n",
        "print(mylist)"
      ],
      "metadata": {
        "colab": {
          "base_uri": "https://localhost:8080/"
        },
        "id": "ksyoKO8GGxzE",
        "outputId": "831f0e61-3754-4154-fd85-1a9696732c8e"
      },
      "execution_count": null,
      "outputs": [
        {
          "output_type": "stream",
          "name": "stdout",
          "text": [
            "['Micheal', 'Sean', 'Adam', 5000, True, 'Zara']\n"
          ]
        }
      ]
    },
    {
      "cell_type": "code",
      "source": [
        "mylist1=[\"Micheal\",\"Sean\",\"Adam\",5000,True]\n",
        "mylist2=[\"Zara\",\"Paul\",\"John\"]\n",
        "mylist2.extend(mylist1)\n",
        "print(mylist2)"
      ],
      "metadata": {
        "colab": {
          "base_uri": "https://localhost:8080/"
        },
        "id": "Wys1JXuwG9ZP",
        "outputId": "008edd0d-5f7e-4a99-82f5-a839fae16703"
      },
      "execution_count": null,
      "outputs": [
        {
          "output_type": "stream",
          "name": "stdout",
          "text": [
            "['Zara', 'Paul', 'John', 'Micheal', 'Sean', 'Adam', 5000, True]\n"
          ]
        }
      ]
    },
    {
      "cell_type": "code",
      "source": [
        "mylist=[\"Micheal\",\"Sean\",\"Adam\",5000,True]#removes a certain element\n",
        "mylist.remove(5000)\n",
        "print(mylist)"
      ],
      "metadata": {
        "colab": {
          "base_uri": "https://localhost:8080/"
        },
        "id": "pYfRw_b7HRYa",
        "outputId": "82b99fac-823b-4dd4-9011-adb5894659cd"
      },
      "execution_count": null,
      "outputs": [
        {
          "output_type": "stream",
          "name": "stdout",
          "text": [
            "['Micheal', 'Sean', 'Adam', True]\n"
          ]
        }
      ]
    },
    {
      "cell_type": "code",
      "source": [
        "mylist=[\"Micheal\",\"Sean\",\"Adam\",5000,True]#pops a specific index\n",
        "mylist.pop(3)\n",
        "print(mylist)"
      ],
      "metadata": {
        "colab": {
          "base_uri": "https://localhost:8080/"
        },
        "id": "dCunod55Hcj5",
        "outputId": "57b8d126-a308-4b3f-f22c-b8c281bf6ed5"
      },
      "execution_count": null,
      "outputs": [
        {
          "output_type": "stream",
          "name": "stdout",
          "text": [
            "['Micheal', 'Sean', 'Adam', True]\n"
          ]
        }
      ]
    },
    {
      "cell_type": "code",
      "source": [
        "mylist=[\"Micheal\",\"Sean\",\"Adam\",5000,True]#automatically removes the last element\n",
        "mylist.pop()\n",
        "print(mylist)"
      ],
      "metadata": {
        "colab": {
          "base_uri": "https://localhost:8080/"
        },
        "id": "gZKA8nfmHnyg",
        "outputId": "067ad392-98f7-40dd-c53f-ffcddaffb49b"
      },
      "execution_count": null,
      "outputs": [
        {
          "output_type": "stream",
          "name": "stdout",
          "text": [
            "['Micheal', 'Sean', 'Adam', 5000]\n"
          ]
        }
      ]
    },
    {
      "cell_type": "code",
      "source": [
        "#sort\n",
        "mylist=[\"Micheal\",\"Sean\",\"Adam\"]#ascending\n",
        "mylist.sort()\n",
        "print(mylist)"
      ],
      "metadata": {
        "colab": {
          "base_uri": "https://localhost:8080/"
        },
        "id": "prgtDXXkH5eH",
        "outputId": "de3d072c-a3dc-48c4-afd2-5df773aaa77c"
      },
      "execution_count": null,
      "outputs": [
        {
          "output_type": "stream",
          "name": "stdout",
          "text": [
            "['Adam', 'Micheal', 'Sean']\n"
          ]
        }
      ]
    },
    {
      "cell_type": "code",
      "source": [
        "mylist=[\"Micheal\",\"Sean\",\"Adam\"]#desc\n",
        "mylist.sort(reverse=True)\n",
        "print(mylist)"
      ],
      "metadata": {
        "colab": {
          "base_uri": "https://localhost:8080/"
        },
        "id": "WCG8yHrhIVux",
        "outputId": "11b955a5-24c9-46e9-ce53-4c0330877b20"
      },
      "execution_count": null,
      "outputs": [
        {
          "output_type": "stream",
          "name": "stdout",
          "text": [
            "['Sean', 'Micheal', 'Adam']\n"
          ]
        }
      ]
    },
    {
      "cell_type": "code",
      "source": [
        "mylist=['Sean', 'Micheal', 'Adam']#reverse\n",
        "mylist.reverse()\n",
        "print(mylist)"
      ],
      "metadata": {
        "colab": {
          "base_uri": "https://localhost:8080/"
        },
        "id": "lfW4cM_rIbex",
        "outputId": "9c7f70f1-7df6-4930-c8c0-b9970b6af0ce"
      },
      "execution_count": null,
      "outputs": [
        {
          "output_type": "stream",
          "name": "stdout",
          "text": [
            "['Adam', 'Micheal', 'Sean']\n"
          ]
        }
      ]
    },
    {
      "cell_type": "code",
      "source": [
        "mylist1=[\"Micheal\",\"Sean\",\"Adam\",5000,True]\n",
        "mylist2=[\"Zara\",\"Paul\",\"John\"]\n",
        "mylist3=mylist2+mylist1\n",
        "print(mylist3)"
      ],
      "metadata": {
        "colab": {
          "base_uri": "https://localhost:8080/"
        },
        "id": "nY4WMhopIueB",
        "outputId": "3531319c-021b-40f8-88ce-0ba53d72be89"
      },
      "execution_count": null,
      "outputs": [
        {
          "output_type": "stream",
          "name": "stdout",
          "text": [
            "['Zara', 'Paul', 'John', 'Micheal', 'Sean', 'Adam', 5000, True]\n"
          ]
        }
      ]
    },
    {
      "cell_type": "code",
      "source": [
        "mylist=[\"Micheal\",\"Sean\",\"Adam\"]#getting help\n",
        "help(mylist.append)"
      ],
      "metadata": {
        "colab": {
          "base_uri": "https://localhost:8080/"
        },
        "id": "WOCSTmpRJW4t",
        "outputId": "f020cad4-1eed-4b33-a932-8422de0ef5d9"
      },
      "execution_count": null,
      "outputs": [
        {
          "output_type": "stream",
          "name": "stdout",
          "text": [
            "Help on built-in function append:\n",
            "\n",
            "append(object, /) method of builtins.list instance\n",
            "    Append object to the end of the list.\n",
            "\n"
          ]
        }
      ]
    },
    {
      "cell_type": "code",
      "source": [
        "mylist=[\"google\",\"Meta\",\"Instagram\",\"Tiktok\",\"Snapchat\"]\n",
        "element = input(\"Please input tech co. name (in Capitalised form):\")\n",
        "if element in mylist:\n",
        "  print(\"The tech co. already exists\")\n",
        "else:\n",
        "  mylist.append(element)\n",
        "  print(\"The new list is:\", mylist)"
      ],
      "metadata": {
        "colab": {
          "base_uri": "https://localhost:8080/"
        },
        "id": "OfBejJ7yJ1Oo",
        "outputId": "6f5b6843-9976-4569-9129-41d90c5bd963"
      },
      "execution_count": null,
      "outputs": [
        {
          "output_type": "stream",
          "name": "stdout",
          "text": [
            "Please input tech co. name (in Capitalised form):Twitter\n",
            "The new list is: ['google', 'Meta', 'Instagram', 'Tiktok', 'Snapchat', 'Twitter']\n"
          ]
        }
      ]
    },
    {
      "cell_type": "code",
      "source": [
        "mylist = [\"Apple\", \"Orange\", \"Grape\"]\n",
        "response = input(\"Please enter a fruit \").title()\n",
        "\n",
        "if response not in mylist:\n",
        "  mylist.append(response)\n",
        "else:\n",
        "  print(\"That fruit is already on the list!\")\n",
        "\n",
        "print(mylist)"
      ],
      "metadata": {
        "colab": {
          "base_uri": "https://localhost:8080/"
        },
        "id": "8HSIza6toJi0",
        "outputId": "85c0a07d-5cad-44b7-f263-e23db9698373"
      },
      "execution_count": 1,
      "outputs": [
        {
          "output_type": "stream",
          "name": "stdout",
          "text": [
            "Please enter a fruit Strawberries\n",
            "['Apple', 'Orange', 'Grape', 'Strawberries']\n"
          ]
        }
      ]
    },
    {
      "cell_type": "code",
      "source": [
        "mylist=[\"google\",\"Meta\",\"Instagram\",\"Tiktok\",\"Snapchat\"]\n",
        "element = input(\"Please input tech co. name (in Capitalised form):\")\n",
        "if element in mylist:\n",
        "  print(\"The tech co. already exists\")\n",
        "else:\n",
        "  mylist.append(element)\n",
        "  print(\"The new list is:\", mylist)"
      ],
      "metadata": {
        "colab": {
          "base_uri": "https://localhost:8080/"
        },
        "id": "R5tOP_YQpCn_",
        "outputId": "f12a04c2-b840-4040-ffc1-2105dc1886ed"
      },
      "execution_count": 2,
      "outputs": [
        {
          "output_type": "stream",
          "name": "stdout",
          "text": [
            "Please input tech co. name (in Capitalised form):Twitter\n",
            "The new list is: ['google', 'Meta', 'Instagram', 'Tiktok', 'Snapchat', 'Twitter']\n"
          ]
        }
      ]
    },
    {
      "cell_type": "code",
      "source": [
        "mylist=[\"google\",\"Meta\",\"Instagram\",\"Tiktok\",\"Snapchat\"]\n",
        "print(mylist)"
      ],
      "metadata": {
        "colab": {
          "base_uri": "https://localhost:8080/"
        },
        "id": "v0VKASU-poIs",
        "outputId": "2efdbb73-e08a-4715-e406-db404e65ca89"
      },
      "execution_count": 3,
      "outputs": [
        {
          "output_type": "stream",
          "name": "stdout",
          "text": [
            "['google', 'Meta', 'Instagram', 'Tiktok', 'Snapchat']\n"
          ]
        }
      ]
    },
    {
      "cell_type": "code",
      "source": [
        "mylist=[\"google\",\"Meta\",\"Instagram\",\"Tiktok\",\"Snapchat\"]#looping #returning each item separately\n",
        "for element in mylist:\n",
        "  print(element)"
      ],
      "metadata": {
        "colab": {
          "base_uri": "https://localhost:8080/"
        },
        "id": "o9Ebr2sFps2D",
        "outputId": "eeb71932-e11f-4476-86fb-d2f93afeea23"
      },
      "execution_count": 4,
      "outputs": [
        {
          "output_type": "stream",
          "name": "stdout",
          "text": [
            "google\n",
            "Meta\n",
            "Instagram\n",
            "Tiktok\n",
            "Snapchat\n"
          ]
        }
      ]
    },
    {
      "cell_type": "code",
      "source": [
        "a=[1,2,3,4,5,6,7]\n",
        "#=2,4,6,8,10,12,14\n",
        "b=[]\n",
        "for i in a:\n",
        "  b.append(i*2)\n",
        "print(b)"
      ],
      "metadata": {
        "colab": {
          "base_uri": "https://localhost:8080/"
        },
        "id": "2c-JbivaqCFn",
        "outputId": "10daaba3-7579-4c0a-bf39-224490daa358"
      },
      "execution_count": 7,
      "outputs": [
        {
          "output_type": "stream",
          "name": "stdout",
          "text": [
            "[2, 4, 6, 8, 10, 12, 14]\n"
          ]
        }
      ]
    },
    {
      "cell_type": "code",
      "source": [
        "a=[1,2,3,4,5,6,7]\n",
        "b=[i*2 for i in a]\n",
        "print(b)"
      ],
      "metadata": {
        "colab": {
          "base_uri": "https://localhost:8080/"
        },
        "id": "t9gHMQiIqnkQ",
        "outputId": "8c1028b1-5bc1-4a42-c418-364ad19efd9b"
      },
      "execution_count": 8,
      "outputs": [
        {
          "output_type": "stream",
          "name": "stdout",
          "text": [
            "[2, 4, 6, 8, 10, 12, 14]\n"
          ]
        }
      ]
    },
    {
      "cell_type": "code",
      "source": [
        "mylist=[1000,20,20120,50,95,1021]#conventional way\n",
        "mynewlist=[]\n",
        "for i in mylist:\n",
        "  if i<100:\n",
        "    mynewlist.append(i)\n",
        "print(mynewlist)"
      ],
      "metadata": {
        "colab": {
          "base_uri": "https://localhost:8080/"
        },
        "id": "wPJiToLkq08E",
        "outputId": "ed63ee05-6b64-4aa9-ddfe-52e6fc7f96e4"
      },
      "execution_count": 10,
      "outputs": [
        {
          "output_type": "stream",
          "name": "stdout",
          "text": [
            "[20, 50, 95]\n"
          ]
        }
      ]
    },
    {
      "cell_type": "code",
      "source": [
        "mylist=[1000,20,20120,50,95,1021]#comprehension\n",
        "mynewlist=[i for i in mylist if i<100]\n",
        "print(mynewlist)"
      ],
      "metadata": {
        "colab": {
          "base_uri": "https://localhost:8080/"
        },
        "id": "4x_znqbcrcXg",
        "outputId": "07b027ec-334d-4edb-a981-b08e10d44152"
      },
      "execution_count": 11,
      "outputs": [
        {
          "output_type": "stream",
          "name": "stdout",
          "text": [
            "[20, 50, 95]\n"
          ]
        }
      ]
    },
    {
      "cell_type": "code",
      "source": [
        "mylist=[\"Micheal\",\"Sean\",\"Adam\",\"Zara\"]\n",
        "mynewlist=[i.upper() for i in mylist]\n",
        "print(mynewlist)"
      ],
      "metadata": {
        "colab": {
          "base_uri": "https://localhost:8080/"
        },
        "id": "vpw18iSSrw_Y",
        "outputId": "48d9b5f0-2d49-453f-b032-65acc7f28926"
      },
      "execution_count": 12,
      "outputs": [
        {
          "output_type": "stream",
          "name": "stdout",
          "text": [
            "['MICHEAL', 'SEAN', 'ADAM', 'ZARA']\n"
          ]
        }
      ]
    },
    {
      "cell_type": "code",
      "source": [
        "mylist=[letter.upper() for letter in \"python\"]#comprehension\n",
        "print(mylist)"
      ],
      "metadata": {
        "colab": {
          "base_uri": "https://localhost:8080/"
        },
        "id": "eb6MXU5psG9M",
        "outputId": "a097b90a-c394-444f-c15e-b0f3ca31e05c"
      },
      "execution_count": 13,
      "outputs": [
        {
          "output_type": "stream",
          "name": "stdout",
          "text": [
            "['P', 'Y', 'T', 'H', 'O', 'N']\n"
          ]
        }
      ]
    },
    {
      "cell_type": "code",
      "source": [
        "mylist=[1,2,[\"a\",1],3]#sublist\n",
        "sublist=mylist[2]\n",
        "print(sublist)"
      ],
      "metadata": {
        "colab": {
          "base_uri": "https://localhost:8080/"
        },
        "id": "WTeLB0VzsfBG",
        "outputId": "7896aced-c35e-4457-f55a-7ebd12173613"
      },
      "execution_count": 14,
      "outputs": [
        {
          "output_type": "stream",
          "name": "stdout",
          "text": [
            "['a', 1]\n"
          ]
        }
      ]
    },
    {
      "cell_type": "code",
      "source": [
        "mylist=[1,2,[\"a\",1],3]\n",
        "mylist[3]"
      ],
      "metadata": {
        "colab": {
          "base_uri": "https://localhost:8080/"
        },
        "id": "WtoIDmwXswPl",
        "outputId": "a7566522-6e6f-46ef-9e60-5628d6101b09"
      },
      "execution_count": 15,
      "outputs": [
        {
          "output_type": "execute_result",
          "data": {
            "text/plain": [
              "3"
            ]
          },
          "metadata": {},
          "execution_count": 15
        }
      ]
    },
    {
      "cell_type": "code",
      "source": [
        "mylist=[1,2,[\"a\",1],3]\n",
        "mylist[2][0]"
      ],
      "metadata": {
        "colab": {
          "base_uri": "https://localhost:8080/",
          "height": 35
        },
        "id": "dXzi1e9vs1Sy",
        "outputId": "9d13f5ab-c201-442e-eaf0-6b6499ef1fbe"
      },
      "execution_count": 16,
      "outputs": [
        {
          "output_type": "execute_result",
          "data": {
            "text/plain": [
              "'a'"
            ],
            "application/vnd.google.colaboratory.intrinsic+json": {
              "type": "string"
            }
          },
          "metadata": {},
          "execution_count": 16
        }
      ]
    },
    {
      "cell_type": "code",
      "source": [
        "mylist=[1,2,[\"a\",1],3]\n",
        "mylist[2][1]"
      ],
      "metadata": {
        "colab": {
          "base_uri": "https://localhost:8080/"
        },
        "id": "T3Gtz59NtBgk",
        "outputId": "34b03ce3-facb-4edc-bd1f-3e93623c5bac"
      },
      "execution_count": 17,
      "outputs": [
        {
          "output_type": "execute_result",
          "data": {
            "text/plain": [
              "1"
            ]
          },
          "metadata": {},
          "execution_count": 17
        }
      ]
    },
    {
      "cell_type": "code",
      "source": [
        "matrix=[[0,1,2],[3,4,5],[6,7,8],[9,10,11]]"
      ],
      "metadata": {
        "id": "jH0WZt5_tTQm"
      },
      "execution_count": 21,
      "outputs": []
    },
    {
      "cell_type": "code",
      "source": [
        "matrix=[[0,1,2],\n",
        "        [3,4,5],\n",
        "        [6,7,8],\n",
        "        [9,10,11]]\n",
        "rows=len(matrix)\n",
        "cols=len(matrix[0])\n",
        "print(rows)\n",
        "print(cols)"
      ],
      "metadata": {
        "colab": {
          "base_uri": "https://localhost:8080/"
        },
        "id": "xmhum6let1hC",
        "outputId": "e083c4ca-ff0b-486f-a118-98e33dd761e8"
      },
      "execution_count": 25,
      "outputs": [
        {
          "output_type": "stream",
          "name": "stdout",
          "text": [
            "4\n",
            "3\n"
          ]
        }
      ]
    },
    {
      "cell_type": "code",
      "source": [
        "matrix=[[0,1,2],\n",
        "        [3,4,5],\n",
        "        [6,7,8],\n",
        "        [9,10,11]]\n",
        "rows=len(matrix)\n",
        "cols=len(matrix[0])\n",
        "for i in range(0,rows):\n",
        "  print(matrix[i])"
      ],
      "metadata": {
        "colab": {
          "base_uri": "https://localhost:8080/"
        },
        "id": "Z89TBJdcvFti",
        "outputId": "2a323b73-3a3b-4c75-908d-1083c6393433"
      },
      "execution_count": 26,
      "outputs": [
        {
          "output_type": "stream",
          "name": "stdout",
          "text": [
            "[0, 1, 2]\n",
            "[3, 4, 5]\n",
            "[6, 7, 8]\n",
            "[9, 10, 11]\n"
          ]
        }
      ]
    },
    {
      "cell_type": "code",
      "source": [
        "matrix[1][0]"
      ],
      "metadata": {
        "colab": {
          "base_uri": "https://localhost:8080/"
        },
        "id": "_0dRy9cTvSCt",
        "outputId": "2b345f47-27fe-43b4-e002-459e4aad7cc7"
      },
      "execution_count": 27,
      "outputs": [
        {
          "output_type": "execute_result",
          "data": {
            "text/plain": [
              "3"
            ]
          },
          "metadata": {},
          "execution_count": 27
        }
      ]
    },
    {
      "cell_type": "code",
      "source": [
        "matrix[3][1]"
      ],
      "metadata": {
        "colab": {
          "base_uri": "https://localhost:8080/"
        },
        "id": "9KpXblgrvZNC",
        "outputId": "38717d69-2515-4208-e48d-2fa25f08517c"
      },
      "execution_count": 28,
      "outputs": [
        {
          "output_type": "execute_result",
          "data": {
            "text/plain": [
              "10"
            ]
          },
          "metadata": {},
          "execution_count": 28
        }
      ]
    },
    {
      "cell_type": "code",
      "source": [
        "mydict={\"employee\":\"Zara\",\"department\":\"operations\",\"last salary\":5000}"
      ],
      "metadata": {
        "id": "XOvumYZ-vlNS"
      },
      "execution_count": 31,
      "outputs": []
    },
    {
      "cell_type": "code",
      "source": [
        "mydict={\n",
        "    \"employee\":\"Zara\",\"department\":\"operations\",\"last salary\":5000\n",
        "    }"
      ],
      "metadata": {
        "id": "7UvyhqREwATr"
      },
      "execution_count": 32,
      "outputs": []
    },
    {
      "cell_type": "code",
      "source": [
        "mydict={\"employee\":\"Zara\",\"department\":\"operations\",\"last salary\":5000}\n",
        "print(mydict)"
      ],
      "metadata": {
        "colab": {
          "base_uri": "https://localhost:8080/"
        },
        "id": "SYQ7T4MPwHiV",
        "outputId": "992ee027-5615-4a4a-c8e4-6da97db1e275"
      },
      "execution_count": 33,
      "outputs": [
        {
          "output_type": "stream",
          "name": "stdout",
          "text": [
            "{'employee': 'Zara', 'department': 'operations', 'last salary': 5000}\n"
          ]
        }
      ]
    },
    {
      "cell_type": "code",
      "source": [
        "mydict={\"employee\":\"Zara\",\"department\":\"operations\",\"last salary\":5000}\n",
        "print(mydict[\"employee\"])"
      ],
      "metadata": {
        "colab": {
          "base_uri": "https://localhost:8080/"
        },
        "id": "vmGmyy-pwRPR",
        "outputId": "c97b80a8-85e3-4cd6-fcdd-b57f5dda0afa"
      },
      "execution_count": 34,
      "outputs": [
        {
          "output_type": "stream",
          "name": "stdout",
          "text": [
            "Zara\n"
          ]
        }
      ]
    },
    {
      "cell_type": "code",
      "source": [
        "mydict={\"employee\":\"Zara\",\"department\":\"operations\",\"last salary\":5000}\n",
        "print(len(mydict))"
      ],
      "metadata": {
        "colab": {
          "base_uri": "https://localhost:8080/"
        },
        "id": "5o4F6GSIwYav",
        "outputId": "b300af23-fb9e-4f02-9e86-ca6244a6e0f2"
      },
      "execution_count": 35,
      "outputs": [
        {
          "output_type": "stream",
          "name": "stdout",
          "text": [
            "3\n"
          ]
        }
      ]
    },
    {
      "cell_type": "code",
      "source": [
        "mydict={\"employee\":\"Zara\",\"department\":\"operations\",\"last salary\":5000}\n",
        "print(type(mydict))"
      ],
      "metadata": {
        "colab": {
          "base_uri": "https://localhost:8080/"
        },
        "id": "hZ62pQ8jwkJP",
        "outputId": "636813d5-53ed-4e6d-d5e2-1f692957da1f"
      },
      "execution_count": 36,
      "outputs": [
        {
          "output_type": "stream",
          "name": "stdout",
          "text": [
            "<class 'dict'>\n"
          ]
        }
      ]
    },
    {
      "cell_type": "code",
      "source": [
        "mydict={\n",
        "    1: {\"employee\":\"Zara\",\"department\":\"operations\",\"last salary\":5000},\n",
        "    2: {\"employee\":\"Sean\",\"department\":\"sales\",\"last salary\":4000}\n",
        "    }"
      ],
      "metadata": {
        "id": "a1tapABBwyah"
      },
      "execution_count": 37,
      "outputs": []
    },
    {
      "cell_type": "code",
      "source": [
        "print(mydict[1])"
      ],
      "metadata": {
        "colab": {
          "base_uri": "https://localhost:8080/"
        },
        "id": "kpXXkiQDwyTP",
        "outputId": "c50642eb-f447-4f01-dc89-4fb9ac7810f6"
      },
      "execution_count": 39,
      "outputs": [
        {
          "output_type": "stream",
          "name": "stdout",
          "text": [
            "{'employee': 'Zara', 'department': 'operations', 'last salary': 5000}\n"
          ]
        }
      ]
    },
    {
      "cell_type": "code",
      "source": [
        "print(mydict[2])"
      ],
      "metadata": {
        "colab": {
          "base_uri": "https://localhost:8080/"
        },
        "id": "V_osHzKPxPqG",
        "outputId": "5dcd2837-15ae-4acd-ac5e-32a8f1dab140"
      },
      "execution_count": 40,
      "outputs": [
        {
          "output_type": "stream",
          "name": "stdout",
          "text": [
            "{'employee': 'Sean', 'department': 'sales', 'last salary': 4000}\n"
          ]
        }
      ]
    },
    {
      "cell_type": "code",
      "source": [
        "print(mydict[1][\"employee\"])"
      ],
      "metadata": {
        "colab": {
          "base_uri": "https://localhost:8080/"
        },
        "id": "jK7DiukkxViT",
        "outputId": "6e79d23d-4ae1-4530-ac15-95041ddfcd04"
      },
      "execution_count": 41,
      "outputs": [
        {
          "output_type": "stream",
          "name": "stdout",
          "text": [
            "Zara\n"
          ]
        }
      ]
    },
    {
      "cell_type": "code",
      "source": [
        "mydict={\"employee\":\"Zara\",\"department\":\"operations\",\"last salary\":5000}\n",
        "mydict.keys()"
      ],
      "metadata": {
        "colab": {
          "base_uri": "https://localhost:8080/"
        },
        "id": "I2NSiRPOxibB",
        "outputId": "7f3ff0f3-588c-4789-8341-6b3d83c42930"
      },
      "execution_count": 42,
      "outputs": [
        {
          "output_type": "execute_result",
          "data": {
            "text/plain": [
              "dict_keys(['employee', 'department', 'last salary'])"
            ]
          },
          "metadata": {},
          "execution_count": 42
        }
      ]
    },
    {
      "cell_type": "code",
      "source": [
        "mydict={\"employee\":\"Zara\",\"department\":\"operations\",\"last salary\":5000}\n",
        "mydict.values()"
      ],
      "metadata": {
        "colab": {
          "base_uri": "https://localhost:8080/"
        },
        "id": "GotwdQ0LxxU9",
        "outputId": "28cb5ef5-c141-4302-de96-f2baf469df31"
      },
      "execution_count": 43,
      "outputs": [
        {
          "output_type": "execute_result",
          "data": {
            "text/plain": [
              "dict_values(['Zara', 'operations', 5000])"
            ]
          },
          "metadata": {},
          "execution_count": 43
        }
      ]
    },
    {
      "cell_type": "code",
      "source": [
        "mydict={\"employee\":\"Zara\",\"department\":\"operations\",\"last salary\":5000}\n",
        "mydict.items()"
      ],
      "metadata": {
        "colab": {
          "base_uri": "https://localhost:8080/"
        },
        "id": "Qew9Cg8Cx4tO",
        "outputId": "da73604f-0d79-4ddc-b247-a75866223a48"
      },
      "execution_count": 44,
      "outputs": [
        {
          "output_type": "execute_result",
          "data": {
            "text/plain": [
              "dict_items([('employee', 'Zara'), ('department', 'operations'), ('last salary', 5000)])"
            ]
          },
          "metadata": {},
          "execution_count": 44
        }
      ]
    },
    {
      "cell_type": "code",
      "source": [
        "mydict={\"employee\":\"Zara\",\"department\":\"operations\",\"last salary\":5000}\n",
        "if \"department\" in mydict:\n",
        "  print(\"Yes the key exists\")"
      ],
      "metadata": {
        "colab": {
          "base_uri": "https://localhost:8080/"
        },
        "id": "cE80JwmiyC4X",
        "outputId": "c60c5089-d654-4ae6-9dc0-118fd5fc6b8b"
      },
      "execution_count": 45,
      "outputs": [
        {
          "output_type": "stream",
          "name": "stdout",
          "text": [
            "Yes the key exists\n"
          ]
        }
      ]
    },
    {
      "cell_type": "code",
      "source": [
        "mydict={\"employee\":\"Zara\",\"department\":\"operations\",\"last salary\":5000}\n",
        "mydict.update({\"employee\":\"Sean\"})\n",
        "print(mydict)"
      ],
      "metadata": {
        "colab": {
          "base_uri": "https://localhost:8080/"
        },
        "id": "rEAeC__3yQxW",
        "outputId": "148271bb-0ad2-462d-8192-0779285a93c1"
      },
      "execution_count": 46,
      "outputs": [
        {
          "output_type": "stream",
          "name": "stdout",
          "text": [
            "{'employee': 'Sean', 'department': 'operations', 'last salary': 5000}\n"
          ]
        }
      ]
    },
    {
      "cell_type": "code",
      "source": [
        "mydict={\"employee\":\"Zara\",\"department\":\"operations\",\"last salary\":5000}\n",
        "mydict.update({\"status\":\"permanent\"})\n",
        "print(mydict)"
      ],
      "metadata": {
        "colab": {
          "base_uri": "https://localhost:8080/"
        },
        "id": "yH4X4X50yxMj",
        "outputId": "6311c710-ccbd-43bb-e637-9164cd99e65c"
      },
      "execution_count": 47,
      "outputs": [
        {
          "output_type": "stream",
          "name": "stdout",
          "text": [
            "{'employee': 'Zara', 'department': 'operations', 'last salary': 5000, 'status': 'permanent'}\n"
          ]
        }
      ]
    },
    {
      "cell_type": "code",
      "source": [
        "mydict={\"employee\":\"Zara\",\"department\":\"operations\",\"last salary\":5000,\"status\": \"permanent\"}\n",
        "mydict.pop(\"status\")\n",
        "print(mydict)"
      ],
      "metadata": {
        "colab": {
          "base_uri": "https://localhost:8080/"
        },
        "id": "JZrWj4k7zNug",
        "outputId": "b2167518-4efb-4de1-b20b-ce19e463fc93"
      },
      "execution_count": 48,
      "outputs": [
        {
          "output_type": "stream",
          "name": "stdout",
          "text": [
            "{'employee': 'Zara', 'department': 'operations', 'last salary': 5000}\n"
          ]
        }
      ]
    },
    {
      "cell_type": "code",
      "source": [
        "mydict={\"employee\":\"Zara\",\"department\":\"operations\",\"last salary\":5000,\"status\": \"permanent\"}\n",
        "del mydict[\"status\"]\n",
        "print(mydict)"
      ],
      "metadata": {
        "colab": {
          "base_uri": "https://localhost:8080/"
        },
        "id": "eavgT_P-z2nC",
        "outputId": "11dfac39-a5c6-4ae7-c522-da958d9d16c9"
      },
      "execution_count": 49,
      "outputs": [
        {
          "output_type": "stream",
          "name": "stdout",
          "text": [
            "{'employee': 'Zara', 'department': 'operations', 'last salary': 5000}\n"
          ]
        }
      ]
    },
    {
      "cell_type": "code",
      "source": [
        "mydict={\"employee\":\"Zara\",\"department\":\"operations\",\"last salary\":5000,\"status\": \"permanent\"}\n",
        "mydict.clear()\n",
        "print(mydict)"
      ],
      "metadata": {
        "colab": {
          "base_uri": "https://localhost:8080/"
        },
        "id": "ecoX9aLCz9cw",
        "outputId": "f9299b62-97eb-4e88-f5e2-d9078a03f755"
      },
      "execution_count": 50,
      "outputs": [
        {
          "output_type": "stream",
          "name": "stdout",
          "text": [
            "{}\n"
          ]
        }
      ]
    },
    {
      "cell_type": "code",
      "source": [
        "mydict={\"employee\":\"Zara\",\"department\":\"operations\",\"last salary\":5000,\"status\": \"permanent\"}\n",
        "for item in mydict.keys():\n",
        "  print(item)"
      ],
      "metadata": {
        "colab": {
          "base_uri": "https://localhost:8080/"
        },
        "id": "7pBRJmjv0ZVV",
        "outputId": "ded84d77-e778-4109-854c-add8ebb57869"
      },
      "execution_count": 53,
      "outputs": [
        {
          "output_type": "stream",
          "name": "stdout",
          "text": [
            "employee\n",
            "department\n",
            "last salary\n",
            "status\n"
          ]
        }
      ]
    },
    {
      "cell_type": "code",
      "source": [
        "mydict={\"employee\":\"Zara\",\"department\":\"operations\",\"last salary\":5000,\"status\": \"permanent\"}\n",
        "for keys,values in mydict.items():\n",
        "  print(keys,values)"
      ],
      "metadata": {
        "colab": {
          "base_uri": "https://localhost:8080/"
        },
        "id": "UA7pSn2c0IdW",
        "outputId": "a76d13e0-dde1-4560-89f6-4f2e3b1444a2"
      },
      "execution_count": 51,
      "outputs": [
        {
          "output_type": "stream",
          "name": "stdout",
          "text": [
            "employee Zara\n",
            "department operations\n",
            "last salary 5000\n",
            "status permanent\n"
          ]
        }
      ]
    },
    {
      "cell_type": "code",
      "source": [
        "mytuple=(\"Audi\",\"Ford\",\"Tesla\",5000,True)\n",
        "type(mytuple)"
      ],
      "metadata": {
        "colab": {
          "base_uri": "https://localhost:8080/"
        },
        "id": "iCEZjyHI0nD_",
        "outputId": "501b541d-8923-491e-cc0d-50489fe6006c"
      },
      "execution_count": 55,
      "outputs": [
        {
          "output_type": "execute_result",
          "data": {
            "text/plain": [
              "tuple"
            ]
          },
          "metadata": {},
          "execution_count": 55
        }
      ]
    },
    {
      "cell_type": "code",
      "source": [
        "mytuple=(\"Audi\",\"Ford\",\"Tesla\",5000,True)\n",
        "mytuple[1]"
      ],
      "metadata": {
        "colab": {
          "base_uri": "https://localhost:8080/",
          "height": 35
        },
        "id": "LNO_mRff1YCy",
        "outputId": "135b7c9b-9ef1-422f-df0c-046c14d33181"
      },
      "execution_count": 58,
      "outputs": [
        {
          "output_type": "execute_result",
          "data": {
            "text/plain": [
              "'Ford'"
            ],
            "application/vnd.google.colaboratory.intrinsic+json": {
              "type": "string"
            }
          },
          "metadata": {},
          "execution_count": 58
        }
      ]
    },
    {
      "cell_type": "code",
      "source": [
        "mytuple=(\"Audi\",\"Ford\",\"Tesla\",5000,True)\n",
        "mytuple[0:3]"
      ],
      "metadata": {
        "colab": {
          "base_uri": "https://localhost:8080/"
        },
        "id": "7VxeJpri06eG",
        "outputId": "5bb61883-a42e-41d3-cbba-05f87a1fc681"
      },
      "execution_count": 56,
      "outputs": [
        {
          "output_type": "execute_result",
          "data": {
            "text/plain": [
              "('Audi', 'Ford', 'Tesla')"
            ]
          },
          "metadata": {},
          "execution_count": 56
        }
      ]
    },
    {
      "cell_type": "code",
      "source": [
        "mytuple=(\"Audi\",\"Ford\",\"Tesla\",5000,True)\n",
        "mylist=list(mytuple)#changing tuple to a list\n",
        "mylist[0]=\"Toyota\"\n",
        "mytuple=tuple(mylist)#changing to a tuple\n",
        "print(mytuple)"
      ],
      "metadata": {
        "colab": {
          "base_uri": "https://localhost:8080/"
        },
        "id": "4ubeLwiR1Fbw",
        "outputId": "1a5a472f-b9cb-497a-b26a-1a2147d71e52"
      },
      "execution_count": 59,
      "outputs": [
        {
          "output_type": "stream",
          "name": "stdout",
          "text": [
            "('Toyota', 'Ford', 'Tesla', 5000, True)\n"
          ]
        }
      ]
    },
    {
      "cell_type": "code",
      "source": [
        "mytuple=(\"Audi\",\"Ford\",\"Tesla\",5000,True)\n",
        "mytuple.index(\"Tesla\")"
      ],
      "metadata": {
        "colab": {
          "base_uri": "https://localhost:8080/"
        },
        "id": "U-70HTzC1fYB",
        "outputId": "81def841-3df2-45bf-eac4-4fe894fbec50"
      },
      "execution_count": 60,
      "outputs": [
        {
          "output_type": "execute_result",
          "data": {
            "text/plain": [
              "2"
            ]
          },
          "metadata": {},
          "execution_count": 60
        }
      ]
    },
    {
      "cell_type": "code",
      "source": [
        "mytuple=(\"Audi\",\"Ford\",\"Audi\",\"Tesla\",\"Audi\",5000,True)\n",
        "mytuple.count(\"Audi\")"
      ],
      "metadata": {
        "colab": {
          "base_uri": "https://localhost:8080/"
        },
        "id": "kOMxJXZX19CU",
        "outputId": "dc75ce2b-1544-469a-89ab-719c4fcf5e7f"
      },
      "execution_count": 61,
      "outputs": [
        {
          "output_type": "execute_result",
          "data": {
            "text/plain": [
              "3"
            ]
          },
          "metadata": {},
          "execution_count": 61
        }
      ]
    },
    {
      "cell_type": "code",
      "source": [
        "mytuple=(\"Audi\",\"Ford\",\"Audi\",\"Tesla\",\"Audi\",5000,True)\n",
        "for i in mytuple:\n",
        "  print(i)"
      ],
      "metadata": {
        "colab": {
          "base_uri": "https://localhost:8080/"
        },
        "id": "T2S70GPR2KD0",
        "outputId": "f0716b74-2af7-40e6-a711-b0ca8439adb6"
      },
      "execution_count": 62,
      "outputs": [
        {
          "output_type": "stream",
          "name": "stdout",
          "text": [
            "Audi\n",
            "Ford\n",
            "Audi\n",
            "Tesla\n",
            "Audi\n",
            "5000\n",
            "True\n"
          ]
        }
      ]
    },
    {
      "cell_type": "code",
      "source": [
        "mytuple=(\"Audi\",\"Ford\",\"Tesla\")#packing\n",
        "car1,car2,car3=mytuple#unpacking\n",
        "print(car1)\n",
        "print(car2)\n",
        "print(car3)"
      ],
      "metadata": {
        "colab": {
          "base_uri": "https://localhost:8080/"
        },
        "id": "bkpSDvpN2XCi",
        "outputId": "0d60fdc2-2a90-4205-c75f-ed8404022a68"
      },
      "execution_count": 63,
      "outputs": [
        {
          "output_type": "stream",
          "name": "stdout",
          "text": [
            "Audi\n",
            "Ford\n",
            "Tesla\n"
          ]
        }
      ]
    },
    {
      "cell_type": "code",
      "source": [
        "myset={\"Audi\",\"Ford\",\"Tesla\",5000,True}\n",
        "print(myset)\n",
        "len(myset)\n",
        "type(myset)"
      ],
      "metadata": {
        "colab": {
          "base_uri": "https://localhost:8080/"
        },
        "id": "SbM3Z8hD2yrA",
        "outputId": "f92b20fb-50ff-4e5f-ccc7-fb66bcda7aa1"
      },
      "execution_count": 66,
      "outputs": [
        {
          "output_type": "stream",
          "name": "stdout",
          "text": [
            "{True, 5000, 'Audi', 'Tesla', 'Ford'}\n"
          ]
        },
        {
          "output_type": "execute_result",
          "data": {
            "text/plain": [
              "set"
            ]
          },
          "metadata": {},
          "execution_count": 66
        }
      ]
    },
    {
      "cell_type": "code",
      "source": [
        "myset={\"Audi\",\"Ford\",\"Tesla\",5000,True}\n",
        "for i in myset:\n",
        "  print(i)"
      ],
      "metadata": {
        "colab": {
          "base_uri": "https://localhost:8080/"
        },
        "id": "yqrN3vGs3RWI",
        "outputId": "4665b0f0-6a8b-42ed-ea2c-8654cfac57c9"
      },
      "execution_count": 68,
      "outputs": [
        {
          "output_type": "stream",
          "name": "stdout",
          "text": [
            "True\n",
            "5000\n",
            "Audi\n",
            "Tesla\n",
            "Ford\n"
          ]
        }
      ]
    },
    {
      "cell_type": "code",
      "source": [
        "myset={\"Audi\",\"Ford\",\"Tesla\",5000,True}\n",
        "myset.add(\"apples\")\n",
        "print(myset)"
      ],
      "metadata": {
        "colab": {
          "base_uri": "https://localhost:8080/"
        },
        "id": "jSUCc3od3wUN",
        "outputId": "0d2eb262-78ab-487b-ab5a-9ef750d2cb10"
      },
      "execution_count": 69,
      "outputs": [
        {
          "output_type": "stream",
          "name": "stdout",
          "text": [
            "{True, 5000, 'Audi', 'Tesla', 'Ford', 'apples'}\n"
          ]
        }
      ]
    },
    {
      "cell_type": "code",
      "source": [
        "myset={\"Audi\",\"Ford\",\"Tesla\",5000,True}\n",
        "myset.pop()\n",
        "print(myset)"
      ],
      "metadata": {
        "colab": {
          "base_uri": "https://localhost:8080/"
        },
        "id": "4n6jkK3l364d",
        "outputId": "74120555-7edf-4453-e814-34a9ecedd93f"
      },
      "execution_count": 70,
      "outputs": [
        {
          "output_type": "stream",
          "name": "stdout",
          "text": [
            "{5000, 'Audi', 'Tesla', 'Ford'}\n"
          ]
        }
      ]
    },
    {
      "cell_type": "code",
      "source": [
        "myset1={3,4}\n",
        "myset2={1,2,3,4,5,6}\n",
        "myset1.union(myset2)"
      ],
      "metadata": {
        "colab": {
          "base_uri": "https://localhost:8080/"
        },
        "id": "78J_NuPz4LHb",
        "outputId": "1a90fa8a-c46b-402e-8150-a2bf15c8c387"
      },
      "execution_count": 71,
      "outputs": [
        {
          "output_type": "execute_result",
          "data": {
            "text/plain": [
              "{1, 2, 3, 4, 5, 6}"
            ]
          },
          "metadata": {},
          "execution_count": 71
        }
      ]
    },
    {
      "cell_type": "code",
      "source": [
        "myset1={3,4}\n",
        "myset2={1,2,3,4,5,6}\n",
        "myset1.intersection(myset2)"
      ],
      "metadata": {
        "colab": {
          "base_uri": "https://localhost:8080/"
        },
        "id": "-teWkph_4VeX",
        "outputId": "2ec2c9dd-49be-48b3-ffa9-67cab120ad79"
      },
      "execution_count": 80,
      "outputs": [
        {
          "output_type": "execute_result",
          "data": {
            "text/plain": [
              "{3, 4}"
            ]
          },
          "metadata": {},
          "execution_count": 80
        }
      ]
    },
    {
      "cell_type": "code",
      "source": [
        "myset1={3,4}\n",
        "myset2={1,2,3,4,5,6}\n",
        "myset1.issubset(myset2)"
      ],
      "metadata": {
        "colab": {
          "base_uri": "https://localhost:8080/"
        },
        "id": "4WE3bmGo4fYl",
        "outputId": "7ec4fb5c-deee-432c-e52b-87eed73fcbef"
      },
      "execution_count": 73,
      "outputs": [
        {
          "output_type": "execute_result",
          "data": {
            "text/plain": [
              "True"
            ]
          },
          "metadata": {},
          "execution_count": 73
        }
      ]
    },
    {
      "cell_type": "code",
      "source": [
        "import numpy as np"
      ],
      "metadata": {
        "id": "qbOcv15N4pUO"
      },
      "execution_count": 74,
      "outputs": []
    },
    {
      "cell_type": "code",
      "source": [
        "import pandas as pd"
      ],
      "metadata": {
        "id": "uRWpj6xc4tju"
      },
      "execution_count": 75,
      "outputs": []
    },
    {
      "cell_type": "code",
      "source": [
        "import matplotlib.pyplot as plt"
      ],
      "metadata": {
        "id": "BTkGPWXV4wnE"
      },
      "execution_count": 76,
      "outputs": []
    },
    {
      "cell_type": "code",
      "source": [
        "import seaborn as sns"
      ],
      "metadata": {
        "id": "5frEtkRv42yu"
      },
      "execution_count": 77,
      "outputs": []
    },
    {
      "cell_type": "code",
      "source": [
        "import math"
      ],
      "metadata": {
        "id": "o10iuGrp49rC"
      },
      "execution_count": 78,
      "outputs": []
    },
    {
      "cell_type": "code",
      "source": [
        "import scipy"
      ],
      "metadata": {
        "id": "brjv9xDO5AFw"
      },
      "execution_count": 79,
      "outputs": []
    }
  ]
}